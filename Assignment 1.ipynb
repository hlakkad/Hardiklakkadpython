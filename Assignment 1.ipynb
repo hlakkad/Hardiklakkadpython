{
 "cells": [
  {
   "cell_type": "code",
   "execution_count": null,
   "id": "05c57d9e",
   "metadata": {},
   "outputs": [],
   "source": [
    "# assignment 1"
   ]
  },
  {
   "cell_type": "code",
   "execution_count": null,
   "id": "0ee4081f",
   "metadata": {},
   "outputs": [],
   "source": [
    "# Question 1: In the below elements which of them are values or an expression? eg:- values can be integer or string and expressions will be mathematical operators."
   ]
  },
  {
   "cell_type": "code",
   "execution_count": null,
   "id": "38634ef9",
   "metadata": {},
   "outputs": [],
   "source": [
    "# Answer: 1\n",
    "# * = methematical operator \n",
    "# \"hello\" = string\n",
    "# -87.8 = integer\n",
    "# - = methamatical operator \n",
    "# / = methematical operator\n",
    "# + = methamatical operator\n",
    "# 6 = integer"
   ]
  },
  {
   "cell_type": "code",
   "execution_count": null,
   "id": "52f4798e",
   "metadata": {},
   "outputs": [],
   "source": [
    "# Questions 2: What is the difference between string and variable?\n",
    "# Answer : Variable is like storage with name in systems and string is stored in variable with name,letter,words or symbol. "
   ]
  },
  {
   "cell_type": "code",
   "execution_count": null,
   "id": "7c98442d",
   "metadata": {},
   "outputs": [],
   "source": [
    "# Question 3: Describe three different data types.\n",
    "# Answer : string(.str) = use for name,character,sysmbol,letter\n",
    "#          integer(.int) = cover whole type of number\n",
    "#          character(.char) = use for single letters"
   ]
  },
  {
   "cell_type": "code",
   "execution_count": null,
   "id": "c5be78e6",
   "metadata": {},
   "outputs": [],
   "source": [
    "# Question 4: What is an expression made up of? What do all expressions do?\n",
    "# Answer : An expression made up with variable, operator and method of invocations which use according to syntex and lenguage, that expression do to interpreted to produce some other type of data and value."
   ]
  },
  {
   "cell_type": "code",
   "execution_count": 13,
   "id": "c104c3a1",
   "metadata": {},
   "outputs": [],
   "source": [
    "# Questions 5: This assignment statements, like spam = 10. What is the difference between an expression and a statement?\n",
    "spam = 10\n",
    "# Answer: expression made with values and functions that interpreted by the complier and creat new value, while statement is just a standalone unit by itself or not anything given in return. "
   ]
  },
  {
   "cell_type": "code",
   "execution_count": 14,
   "id": "3c9438f4",
   "metadata": {},
   "outputs": [],
   "source": [
    "# Question 6: After running the following code, what does the variable bacon contain?\n",
    "# Answer : integer"
   ]
  },
  {
   "cell_type": "code",
   "execution_count": 15,
   "id": "eefc6554",
   "metadata": {},
   "outputs": [],
   "source": [
    "bacon =22"
   ]
  },
  {
   "cell_type": "code",
   "execution_count": 16,
   "id": "e35871ae",
   "metadata": {},
   "outputs": [
    {
     "data": {
      "text/plain": [
       "23"
      ]
     },
     "execution_count": 16,
     "metadata": {},
     "output_type": "execute_result"
    }
   ],
   "source": [
    "bacon+1"
   ]
  },
  {
   "cell_type": "code",
   "execution_count": 18,
   "id": "99e5d8a6",
   "metadata": {},
   "outputs": [],
   "source": [
    "# Questions 7 : What should the values of the following two terms be?\n",
    "#'spam' + 'spamspam'\n",
    "#'spam' * 3\n"
   ]
  },
  {
   "cell_type": "code",
   "execution_count": 19,
   "id": "05d9806d",
   "metadata": {},
   "outputs": [
    {
     "data": {
      "text/plain": [
       "'spamspamspam'"
      ]
     },
     "execution_count": 19,
     "metadata": {},
     "output_type": "execute_result"
    }
   ],
   "source": [
    "\"spam\" + \"spamspam\""
   ]
  },
  {
   "cell_type": "code",
   "execution_count": 20,
   "id": "b4c0dfd7",
   "metadata": {},
   "outputs": [
    {
     "data": {
      "text/plain": [
       "'spamspamspam'"
      ]
     },
     "execution_count": 20,
     "metadata": {},
     "output_type": "execute_result"
    }
   ],
   "source": [
    "\"spam\" * 3"
   ]
  },
  {
   "cell_type": "code",
   "execution_count": 21,
   "id": "aa341cac",
   "metadata": {},
   "outputs": [],
   "source": [
    "# Questions 8: Why is eggs a valid variable name while 100 is invalid?\n",
    "# Answer : eggs is valid for varibel because string can be connected with string or operator while 100 is invalid because its integer."
   ]
  },
  {
   "cell_type": "code",
   "execution_count": null,
   "id": "0e47e4c5",
   "metadata": {},
   "outputs": [],
   "source": [
    "# Questions 9: What three functions can be used to get the integer, floating-point number, or string version of a value?\n",
    "# Answer : integer = int(), floating-point number = flot(), string = str()"
   ]
  },
  {
   "cell_type": "code",
   "execution_count": 27,
   "id": "d95bd0a2",
   "metadata": {},
   "outputs": [],
   "source": [
    "# Questions 10:. Why does this expression cause an error? How can you fix it?\n",
    "#'I have eaten ' + 99 + ' burritos.'\n",
    "# It has error because string can join with string if \"99\" convert is str then it will fix"
   ]
  },
  {
   "cell_type": "code",
   "execution_count": 28,
   "id": "ed61136c",
   "metadata": {},
   "outputs": [
    {
     "data": {
      "text/plain": [
       "'I have eaten 99 burritos.'"
      ]
     },
     "execution_count": 28,
     "metadata": {},
     "output_type": "execute_result"
    }
   ],
   "source": [
    "'I have eaten ' + \"99\" + ' burritos.'"
   ]
  },
  {
   "cell_type": "code",
   "execution_count": null,
   "id": "3b65be6c",
   "metadata": {},
   "outputs": [],
   "source": []
  }
 ],
 "metadata": {
  "kernelspec": {
   "display_name": "Python 3",
   "language": "python",
   "name": "python3"
  },
  "language_info": {
   "codemirror_mode": {
    "name": "ipython",
    "version": 3
   },
   "file_extension": ".py",
   "mimetype": "text/x-python",
   "name": "python",
   "nbconvert_exporter": "python",
   "pygments_lexer": "ipython3",
   "version": "3.8.8"
  }
 },
 "nbformat": 4,
 "nbformat_minor": 5
}
